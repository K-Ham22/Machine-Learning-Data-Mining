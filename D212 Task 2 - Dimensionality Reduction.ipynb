{
 "cells": [
  {
   "cell_type": "markdown",
   "id": "2af65f13-b26b-4eba-909b-d32595f0916e",
   "metadata": {},
   "source": [
    "# **D212 Task 2** | Dimensionality Reduction"
   ]
  },
  {
   "cell_type": "code",
   "execution_count": 1,
   "id": "17ff0401-5525-4241-b79a-528c9fe65bff",
   "metadata": {},
   "outputs": [],
   "source": [
    "import pandas as pd #dataframes\n",
    "import numpy as np #arrays\n",
    "import seaborn as sns #visualizations\n",
    "from matplotlib import pyplot as plt #visualizations"
   ]
  },
  {
   "cell_type": "code",
   "execution_count": 2,
   "id": "fad1dabe-0bfd-469c-a44b-6c9a9d4eef5a",
   "metadata": {},
   "outputs": [],
   "source": [
    "from sklearn.preprocessing import StandardScaler\n",
    "from sklearn.decomposition import PCA"
   ]
  },
  {
   "cell_type": "code",
   "execution_count": 8,
   "id": "628b0d9d-60c5-4837-b589-97fe24a4d5cb",
   "metadata": {},
   "outputs": [],
   "source": [
    "from sklearn.preprocessing import RobustScaler"
   ]
  },
  {
   "cell_type": "code",
   "execution_count": 9,
   "id": "438bf325-b734-4595-9ba6-3e64f85be83e",
   "metadata": {},
   "outputs": [],
   "source": [
    "import warnings\n",
    "warnings.filterwarnings('ignore')"
   ]
  },
  {
   "cell_type": "code",
   "execution_count": 3,
   "id": "3f126473-1def-4244-87d9-3eea34572693",
   "metadata": {},
   "outputs": [
    {
     "data": {
      "text/html": [
       "<div>\n",
       "<style scoped>\n",
       "    .dataframe tbody tr th:only-of-type {\n",
       "        vertical-align: middle;\n",
       "    }\n",
       "\n",
       "    .dataframe tbody tr th {\n",
       "        vertical-align: top;\n",
       "    }\n",
       "\n",
       "    .dataframe thead th {\n",
       "        text-align: right;\n",
       "    }\n",
       "</style>\n",
       "<table border=\"1\" class=\"dataframe\">\n",
       "  <thead>\n",
       "    <tr style=\"text-align: right;\">\n",
       "      <th></th>\n",
       "      <th>CaseOrder</th>\n",
       "      <th>Customer_id</th>\n",
       "      <th>Interaction</th>\n",
       "      <th>UID</th>\n",
       "      <th>City</th>\n",
       "      <th>State</th>\n",
       "      <th>County</th>\n",
       "      <th>Zip</th>\n",
       "      <th>Lat</th>\n",
       "      <th>Lng</th>\n",
       "      <th>...</th>\n",
       "      <th>MonthlyCharge</th>\n",
       "      <th>Bandwidth_GB_Year</th>\n",
       "      <th>Item1</th>\n",
       "      <th>Item2</th>\n",
       "      <th>Item3</th>\n",
       "      <th>Item4</th>\n",
       "      <th>Item5</th>\n",
       "      <th>Item6</th>\n",
       "      <th>Item7</th>\n",
       "      <th>Item8</th>\n",
       "    </tr>\n",
       "  </thead>\n",
       "  <tbody>\n",
       "    <tr>\n",
       "      <th>0</th>\n",
       "      <td>1</td>\n",
       "      <td>K409198</td>\n",
       "      <td>aa90260b-4141-4a24-8e36-b04ce1f4f77b</td>\n",
       "      <td>e885b299883d4f9fb18e39c75155d990</td>\n",
       "      <td>Point Baker</td>\n",
       "      <td>AK</td>\n",
       "      <td>Prince of Wales-Hyder</td>\n",
       "      <td>99927</td>\n",
       "      <td>56.25100</td>\n",
       "      <td>-133.37571</td>\n",
       "      <td>...</td>\n",
       "      <td>172.455519</td>\n",
       "      <td>904.536110</td>\n",
       "      <td>5</td>\n",
       "      <td>5</td>\n",
       "      <td>5</td>\n",
       "      <td>3</td>\n",
       "      <td>4</td>\n",
       "      <td>4</td>\n",
       "      <td>3</td>\n",
       "      <td>4</td>\n",
       "    </tr>\n",
       "    <tr>\n",
       "      <th>1</th>\n",
       "      <td>2</td>\n",
       "      <td>S120509</td>\n",
       "      <td>fb76459f-c047-4a9d-8af9-e0f7d4ac2524</td>\n",
       "      <td>f2de8bef964785f41a2959829830fb8a</td>\n",
       "      <td>West Branch</td>\n",
       "      <td>MI</td>\n",
       "      <td>Ogemaw</td>\n",
       "      <td>48661</td>\n",
       "      <td>44.32893</td>\n",
       "      <td>-84.24080</td>\n",
       "      <td>...</td>\n",
       "      <td>242.632554</td>\n",
       "      <td>800.982766</td>\n",
       "      <td>3</td>\n",
       "      <td>4</td>\n",
       "      <td>3</td>\n",
       "      <td>3</td>\n",
       "      <td>4</td>\n",
       "      <td>3</td>\n",
       "      <td>4</td>\n",
       "      <td>4</td>\n",
       "    </tr>\n",
       "    <tr>\n",
       "      <th>2</th>\n",
       "      <td>3</td>\n",
       "      <td>K191035</td>\n",
       "      <td>344d114c-3736-4be5-98f7-c72c281e2d35</td>\n",
       "      <td>f1784cfa9f6d92ae816197eb175d3c71</td>\n",
       "      <td>Yamhill</td>\n",
       "      <td>OR</td>\n",
       "      <td>Yamhill</td>\n",
       "      <td>97148</td>\n",
       "      <td>45.35589</td>\n",
       "      <td>-123.24657</td>\n",
       "      <td>...</td>\n",
       "      <td>159.947583</td>\n",
       "      <td>2054.706961</td>\n",
       "      <td>4</td>\n",
       "      <td>4</td>\n",
       "      <td>2</td>\n",
       "      <td>4</td>\n",
       "      <td>4</td>\n",
       "      <td>3</td>\n",
       "      <td>3</td>\n",
       "      <td>3</td>\n",
       "    </tr>\n",
       "  </tbody>\n",
       "</table>\n",
       "<p>3 rows × 50 columns</p>\n",
       "</div>"
      ],
      "text/plain": [
       "   CaseOrder Customer_id                           Interaction   \n",
       "0          1     K409198  aa90260b-4141-4a24-8e36-b04ce1f4f77b  \\\n",
       "1          2     S120509  fb76459f-c047-4a9d-8af9-e0f7d4ac2524   \n",
       "2          3     K191035  344d114c-3736-4be5-98f7-c72c281e2d35   \n",
       "\n",
       "                                UID         City State                 County   \n",
       "0  e885b299883d4f9fb18e39c75155d990  Point Baker    AK  Prince of Wales-Hyder  \\\n",
       "1  f2de8bef964785f41a2959829830fb8a  West Branch    MI                 Ogemaw   \n",
       "2  f1784cfa9f6d92ae816197eb175d3c71      Yamhill    OR                Yamhill   \n",
       "\n",
       "     Zip       Lat        Lng  ...  MonthlyCharge Bandwidth_GB_Year Item1   \n",
       "0  99927  56.25100 -133.37571  ...     172.455519        904.536110     5  \\\n",
       "1  48661  44.32893  -84.24080  ...     242.632554        800.982766     3   \n",
       "2  97148  45.35589 -123.24657  ...     159.947583       2054.706961     4   \n",
       "\n",
       "  Item2  Item3  Item4  Item5 Item6 Item7 Item8  \n",
       "0     5      5      3      4     4     3     4  \n",
       "1     4      3      3      4     3     4     4  \n",
       "2     4      2      4      4     3     3     3  \n",
       "\n",
       "[3 rows x 50 columns]"
      ]
     },
     "execution_count": 3,
     "metadata": {},
     "output_type": "execute_result"
    }
   ],
   "source": [
    "df = pd.read_csv('churn_clean.csv')\n",
    "df.head(3)"
   ]
  },
  {
   "cell_type": "markdown",
   "id": "2bf443ea-5099-4e15-b032-3455469407e9",
   "metadata": {},
   "source": [
    "### **drop non-continuous variables**"
   ]
  },
  {
   "cell_type": "code",
   "execution_count": 5,
   "id": "5f001185-a4cd-4bb4-87ec-313727ce5151",
   "metadata": {},
   "outputs": [
    {
     "data": {
      "text/html": [
       "<div>\n",
       "<style scoped>\n",
       "    .dataframe tbody tr th:only-of-type {\n",
       "        vertical-align: middle;\n",
       "    }\n",
       "\n",
       "    .dataframe tbody tr th {\n",
       "        vertical-align: top;\n",
       "    }\n",
       "\n",
       "    .dataframe thead th {\n",
       "        text-align: right;\n",
       "    }\n",
       "</style>\n",
       "<table border=\"1\" class=\"dataframe\">\n",
       "  <thead>\n",
       "    <tr style=\"text-align: right;\">\n",
       "      <th></th>\n",
       "      <th>City</th>\n",
       "      <th>State</th>\n",
       "      <th>County</th>\n",
       "      <th>Zip</th>\n",
       "      <th>Lat</th>\n",
       "      <th>Lng</th>\n",
       "      <th>Population</th>\n",
       "      <th>Area</th>\n",
       "      <th>TimeZone</th>\n",
       "      <th>Job</th>\n",
       "      <th>...</th>\n",
       "      <th>MonthlyCharge</th>\n",
       "      <th>Bandwidth_GB_Year</th>\n",
       "      <th>Item1</th>\n",
       "      <th>Item2</th>\n",
       "      <th>Item3</th>\n",
       "      <th>Item4</th>\n",
       "      <th>Item5</th>\n",
       "      <th>Item6</th>\n",
       "      <th>Item7</th>\n",
       "      <th>Item8</th>\n",
       "    </tr>\n",
       "  </thead>\n",
       "  <tbody>\n",
       "    <tr>\n",
       "      <th>0</th>\n",
       "      <td>Point Baker</td>\n",
       "      <td>AK</td>\n",
       "      <td>Prince of Wales-Hyder</td>\n",
       "      <td>99927</td>\n",
       "      <td>56.25100</td>\n",
       "      <td>-133.37571</td>\n",
       "      <td>38</td>\n",
       "      <td>Urban</td>\n",
       "      <td>America/Sitka</td>\n",
       "      <td>Environmental health practitioner</td>\n",
       "      <td>...</td>\n",
       "      <td>172.455519</td>\n",
       "      <td>904.536110</td>\n",
       "      <td>5</td>\n",
       "      <td>5</td>\n",
       "      <td>5</td>\n",
       "      <td>3</td>\n",
       "      <td>4</td>\n",
       "      <td>4</td>\n",
       "      <td>3</td>\n",
       "      <td>4</td>\n",
       "    </tr>\n",
       "    <tr>\n",
       "      <th>1</th>\n",
       "      <td>West Branch</td>\n",
       "      <td>MI</td>\n",
       "      <td>Ogemaw</td>\n",
       "      <td>48661</td>\n",
       "      <td>44.32893</td>\n",
       "      <td>-84.24080</td>\n",
       "      <td>10446</td>\n",
       "      <td>Urban</td>\n",
       "      <td>America/Detroit</td>\n",
       "      <td>Programmer, multimedia</td>\n",
       "      <td>...</td>\n",
       "      <td>242.632554</td>\n",
       "      <td>800.982766</td>\n",
       "      <td>3</td>\n",
       "      <td>4</td>\n",
       "      <td>3</td>\n",
       "      <td>3</td>\n",
       "      <td>4</td>\n",
       "      <td>3</td>\n",
       "      <td>4</td>\n",
       "      <td>4</td>\n",
       "    </tr>\n",
       "    <tr>\n",
       "      <th>2</th>\n",
       "      <td>Yamhill</td>\n",
       "      <td>OR</td>\n",
       "      <td>Yamhill</td>\n",
       "      <td>97148</td>\n",
       "      <td>45.35589</td>\n",
       "      <td>-123.24657</td>\n",
       "      <td>3735</td>\n",
       "      <td>Urban</td>\n",
       "      <td>America/Los_Angeles</td>\n",
       "      <td>Chief Financial Officer</td>\n",
       "      <td>...</td>\n",
       "      <td>159.947583</td>\n",
       "      <td>2054.706961</td>\n",
       "      <td>4</td>\n",
       "      <td>4</td>\n",
       "      <td>2</td>\n",
       "      <td>4</td>\n",
       "      <td>4</td>\n",
       "      <td>3</td>\n",
       "      <td>3</td>\n",
       "      <td>3</td>\n",
       "    </tr>\n",
       "  </tbody>\n",
       "</table>\n",
       "<p>3 rows × 46 columns</p>\n",
       "</div>"
      ],
      "text/plain": [
       "          City State                 County    Zip       Lat        Lng   \n",
       "0  Point Baker    AK  Prince of Wales-Hyder  99927  56.25100 -133.37571  \\\n",
       "1  West Branch    MI                 Ogemaw  48661  44.32893  -84.24080   \n",
       "2      Yamhill    OR                Yamhill  97148  45.35589 -123.24657   \n",
       "\n",
       "   Population   Area             TimeZone                                Job   \n",
       "0          38  Urban        America/Sitka  Environmental health practitioner  \\\n",
       "1       10446  Urban      America/Detroit             Programmer, multimedia   \n",
       "2        3735  Urban  America/Los_Angeles            Chief Financial Officer   \n",
       "\n",
       "   ...  MonthlyCharge  Bandwidth_GB_Year  Item1 Item2 Item3 Item4  Item5   \n",
       "0  ...     172.455519         904.536110      5     5     5     3      4  \\\n",
       "1  ...     242.632554         800.982766      3     4     3     3      4   \n",
       "2  ...     159.947583        2054.706961      4     4     2     4      4   \n",
       "\n",
       "   Item6  Item7  Item8  \n",
       "0      4      3      4  \n",
       "1      3      4      4  \n",
       "2      3      3      3  \n",
       "\n",
       "[3 rows x 46 columns]"
      ]
     },
     "execution_count": 5,
     "metadata": {},
     "output_type": "execute_result"
    }
   ],
   "source": [
    "df.drop(columns=['CaseOrder', \n",
    "                 'Customer_id', \n",
    "                 'Interaction', \n",
    "                 'UID'],\n",
    "                 inplace=True)\n",
    "df.head(3)"
   ]
  },
  {
   "cell_type": "code",
   "execution_count": 6,
   "id": "c46d7b40-81f2-4470-8649-efc465ce400d",
   "metadata": {},
   "outputs": [
    {
     "data": {
      "text/html": [
       "<div>\n",
       "<style scoped>\n",
       "    .dataframe tbody tr th:only-of-type {\n",
       "        vertical-align: middle;\n",
       "    }\n",
       "\n",
       "    .dataframe tbody tr th {\n",
       "        vertical-align: top;\n",
       "    }\n",
       "\n",
       "    .dataframe thead th {\n",
       "        text-align: right;\n",
       "    }\n",
       "</style>\n",
       "<table border=\"1\" class=\"dataframe\">\n",
       "  <thead>\n",
       "    <tr style=\"text-align: right;\">\n",
       "      <th></th>\n",
       "      <th>Lat</th>\n",
       "      <th>Lng</th>\n",
       "      <th>Population</th>\n",
       "      <th>Area</th>\n",
       "      <th>TimeZone</th>\n",
       "      <th>Job</th>\n",
       "      <th>Children</th>\n",
       "      <th>Age</th>\n",
       "      <th>Income</th>\n",
       "      <th>Marital</th>\n",
       "      <th>...</th>\n",
       "      <th>MonthlyCharge</th>\n",
       "      <th>Bandwidth_GB_Year</th>\n",
       "      <th>Item1</th>\n",
       "      <th>Item2</th>\n",
       "      <th>Item3</th>\n",
       "      <th>Item4</th>\n",
       "      <th>Item5</th>\n",
       "      <th>Item6</th>\n",
       "      <th>Item7</th>\n",
       "      <th>Item8</th>\n",
       "    </tr>\n",
       "  </thead>\n",
       "  <tbody>\n",
       "    <tr>\n",
       "      <th>0</th>\n",
       "      <td>56.25100</td>\n",
       "      <td>-133.37571</td>\n",
       "      <td>38</td>\n",
       "      <td>Urban</td>\n",
       "      <td>America/Sitka</td>\n",
       "      <td>Environmental health practitioner</td>\n",
       "      <td>0</td>\n",
       "      <td>68</td>\n",
       "      <td>28561.99</td>\n",
       "      <td>Widowed</td>\n",
       "      <td>...</td>\n",
       "      <td>172.455519</td>\n",
       "      <td>904.536110</td>\n",
       "      <td>5</td>\n",
       "      <td>5</td>\n",
       "      <td>5</td>\n",
       "      <td>3</td>\n",
       "      <td>4</td>\n",
       "      <td>4</td>\n",
       "      <td>3</td>\n",
       "      <td>4</td>\n",
       "    </tr>\n",
       "    <tr>\n",
       "      <th>1</th>\n",
       "      <td>44.32893</td>\n",
       "      <td>-84.24080</td>\n",
       "      <td>10446</td>\n",
       "      <td>Urban</td>\n",
       "      <td>America/Detroit</td>\n",
       "      <td>Programmer, multimedia</td>\n",
       "      <td>1</td>\n",
       "      <td>27</td>\n",
       "      <td>21704.77</td>\n",
       "      <td>Married</td>\n",
       "      <td>...</td>\n",
       "      <td>242.632554</td>\n",
       "      <td>800.982766</td>\n",
       "      <td>3</td>\n",
       "      <td>4</td>\n",
       "      <td>3</td>\n",
       "      <td>3</td>\n",
       "      <td>4</td>\n",
       "      <td>3</td>\n",
       "      <td>4</td>\n",
       "      <td>4</td>\n",
       "    </tr>\n",
       "    <tr>\n",
       "      <th>2</th>\n",
       "      <td>45.35589</td>\n",
       "      <td>-123.24657</td>\n",
       "      <td>3735</td>\n",
       "      <td>Urban</td>\n",
       "      <td>America/Los_Angeles</td>\n",
       "      <td>Chief Financial Officer</td>\n",
       "      <td>4</td>\n",
       "      <td>50</td>\n",
       "      <td>9609.57</td>\n",
       "      <td>Widowed</td>\n",
       "      <td>...</td>\n",
       "      <td>159.947583</td>\n",
       "      <td>2054.706961</td>\n",
       "      <td>4</td>\n",
       "      <td>4</td>\n",
       "      <td>2</td>\n",
       "      <td>4</td>\n",
       "      <td>4</td>\n",
       "      <td>3</td>\n",
       "      <td>3</td>\n",
       "      <td>3</td>\n",
       "    </tr>\n",
       "  </tbody>\n",
       "</table>\n",
       "<p>3 rows × 42 columns</p>\n",
       "</div>"
      ],
      "text/plain": [
       "        Lat        Lng  Population   Area             TimeZone   \n",
       "0  56.25100 -133.37571          38  Urban        America/Sitka  \\\n",
       "1  44.32893  -84.24080       10446  Urban      America/Detroit   \n",
       "2  45.35589 -123.24657        3735  Urban  America/Los_Angeles   \n",
       "\n",
       "                                 Job  Children  Age    Income  Marital  ...   \n",
       "0  Environmental health practitioner         0   68  28561.99  Widowed  ...  \\\n",
       "1             Programmer, multimedia         1   27  21704.77  Married  ...   \n",
       "2            Chief Financial Officer         4   50   9609.57  Widowed  ...   \n",
       "\n",
       "  MonthlyCharge Bandwidth_GB_Year  Item1  Item2  Item3  Item4 Item5 Item6   \n",
       "0    172.455519        904.536110      5      5      5      3     4     4  \\\n",
       "1    242.632554        800.982766      3      4      3      3     4     3   \n",
       "2    159.947583       2054.706961      4      4      2      4     4     3   \n",
       "\n",
       "  Item7 Item8  \n",
       "0     3     4  \n",
       "1     4     4  \n",
       "2     3     3  \n",
       "\n",
       "[3 rows x 42 columns]"
      ]
     },
     "execution_count": 6,
     "metadata": {},
     "output_type": "execute_result"
    }
   ],
   "source": [
    "df.drop(columns=['City', \n",
    "                 'State', \n",
    "                 'County', \n",
    "                 'Zip'],\n",
    "                 inplace=True)\n",
    "df.head(3)"
   ]
  },
  {
   "cell_type": "code",
   "execution_count": 7,
   "id": "6230950a-0c22-4b20-b314-23b52b981cf7",
   "metadata": {},
   "outputs": [
    {
     "data": {
      "text/html": [
       "<div>\n",
       "<style scoped>\n",
       "    .dataframe tbody tr th:only-of-type {\n",
       "        vertical-align: middle;\n",
       "    }\n",
       "\n",
       "    .dataframe tbody tr th {\n",
       "        vertical-align: top;\n",
       "    }\n",
       "\n",
       "    .dataframe thead th {\n",
       "        text-align: right;\n",
       "    }\n",
       "</style>\n",
       "<table border=\"1\" class=\"dataframe\">\n",
       "  <thead>\n",
       "    <tr style=\"text-align: right;\">\n",
       "      <th></th>\n",
       "      <th>Lat</th>\n",
       "      <th>Lng</th>\n",
       "      <th>Population</th>\n",
       "      <th>Children</th>\n",
       "      <th>Age</th>\n",
       "      <th>Income</th>\n",
       "      <th>Marital</th>\n",
       "      <th>Gender</th>\n",
       "      <th>Churn</th>\n",
       "      <th>Outage_sec_perweek</th>\n",
       "      <th>...</th>\n",
       "      <th>MonthlyCharge</th>\n",
       "      <th>Bandwidth_GB_Year</th>\n",
       "      <th>Item1</th>\n",
       "      <th>Item2</th>\n",
       "      <th>Item3</th>\n",
       "      <th>Item4</th>\n",
       "      <th>Item5</th>\n",
       "      <th>Item6</th>\n",
       "      <th>Item7</th>\n",
       "      <th>Item8</th>\n",
       "    </tr>\n",
       "  </thead>\n",
       "  <tbody>\n",
       "    <tr>\n",
       "      <th>0</th>\n",
       "      <td>56.25100</td>\n",
       "      <td>-133.37571</td>\n",
       "      <td>38</td>\n",
       "      <td>0</td>\n",
       "      <td>68</td>\n",
       "      <td>28561.99</td>\n",
       "      <td>Widowed</td>\n",
       "      <td>Male</td>\n",
       "      <td>No</td>\n",
       "      <td>7.978323</td>\n",
       "      <td>...</td>\n",
       "      <td>172.455519</td>\n",
       "      <td>904.536110</td>\n",
       "      <td>5</td>\n",
       "      <td>5</td>\n",
       "      <td>5</td>\n",
       "      <td>3</td>\n",
       "      <td>4</td>\n",
       "      <td>4</td>\n",
       "      <td>3</td>\n",
       "      <td>4</td>\n",
       "    </tr>\n",
       "    <tr>\n",
       "      <th>1</th>\n",
       "      <td>44.32893</td>\n",
       "      <td>-84.24080</td>\n",
       "      <td>10446</td>\n",
       "      <td>1</td>\n",
       "      <td>27</td>\n",
       "      <td>21704.77</td>\n",
       "      <td>Married</td>\n",
       "      <td>Female</td>\n",
       "      <td>Yes</td>\n",
       "      <td>11.699080</td>\n",
       "      <td>...</td>\n",
       "      <td>242.632554</td>\n",
       "      <td>800.982766</td>\n",
       "      <td>3</td>\n",
       "      <td>4</td>\n",
       "      <td>3</td>\n",
       "      <td>3</td>\n",
       "      <td>4</td>\n",
       "      <td>3</td>\n",
       "      <td>4</td>\n",
       "      <td>4</td>\n",
       "    </tr>\n",
       "    <tr>\n",
       "      <th>2</th>\n",
       "      <td>45.35589</td>\n",
       "      <td>-123.24657</td>\n",
       "      <td>3735</td>\n",
       "      <td>4</td>\n",
       "      <td>50</td>\n",
       "      <td>9609.57</td>\n",
       "      <td>Widowed</td>\n",
       "      <td>Female</td>\n",
       "      <td>No</td>\n",
       "      <td>10.752800</td>\n",
       "      <td>...</td>\n",
       "      <td>159.947583</td>\n",
       "      <td>2054.706961</td>\n",
       "      <td>4</td>\n",
       "      <td>4</td>\n",
       "      <td>2</td>\n",
       "      <td>4</td>\n",
       "      <td>4</td>\n",
       "      <td>3</td>\n",
       "      <td>3</td>\n",
       "      <td>3</td>\n",
       "    </tr>\n",
       "  </tbody>\n",
       "</table>\n",
       "<p>3 rows × 39 columns</p>\n",
       "</div>"
      ],
      "text/plain": [
       "        Lat        Lng  Population  Children  Age    Income  Marital  Gender   \n",
       "0  56.25100 -133.37571          38         0   68  28561.99  Widowed    Male  \\\n",
       "1  44.32893  -84.24080       10446         1   27  21704.77  Married  Female   \n",
       "2  45.35589 -123.24657        3735         4   50   9609.57  Widowed  Female   \n",
       "\n",
       "  Churn  Outage_sec_perweek  ...  MonthlyCharge  Bandwidth_GB_Year  Item1   \n",
       "0    No            7.978323  ...     172.455519         904.536110      5  \\\n",
       "1   Yes           11.699080  ...     242.632554         800.982766      3   \n",
       "2    No           10.752800  ...     159.947583        2054.706961      4   \n",
       "\n",
       "  Item2 Item3 Item4 Item5 Item6 Item7 Item8  \n",
       "0     5     5     3     4     4     3     4  \n",
       "1     4     3     3     4     3     4     4  \n",
       "2     4     2     4     4     3     3     3  \n",
       "\n",
       "[3 rows x 39 columns]"
      ]
     },
     "execution_count": 7,
     "metadata": {},
     "output_type": "execute_result"
    }
   ],
   "source": [
    "df.drop(columns=['Area', \n",
    "                'TimeZone',\n",
    "                'Job'],\n",
    "                 inplace=True)\n",
    "df.head(3)"
   ]
  },
  {
   "cell_type": "markdown",
   "id": "e6dc6ca4-8058-4f28-83f0-bae83ae7ae61",
   "metadata": {},
   "source": [
    "### **here we can separate numerical data from categorical data**\n",
    "- didn't know I could do this, so I was dropping them one at a time"
   ]
  },
  {
   "cell_type": "code",
   "execution_count": 12,
   "id": "fd0519fc-caa8-4be5-80e1-c0aedf8261ea",
   "metadata": {},
   "outputs": [
    {
     "data": {
      "text/plain": [
       "Index(['Lat', 'Lng', 'Population', 'Children', 'Age', 'Income',\n",
       "       'Outage_sec_perweek', 'Email', 'Contacts', 'Yearly_equip_failure',\n",
       "       'Tenure', 'MonthlyCharge', 'Bandwidth_GB_Year', 'Item1', 'Item2',\n",
       "       'Item3', 'Item4', 'Item5', 'Item6', 'Item7', 'Item8'],\n",
       "      dtype='object')"
      ]
     },
     "execution_count": 12,
     "metadata": {},
     "output_type": "execute_result"
    }
   ],
   "source": [
    "numerical_df = df.select_dtypes(exclude = 'object')\n",
    "numerical_df.columns"
   ]
  },
  {
   "cell_type": "code",
   "execution_count": 13,
   "id": "2af82bcc-e479-484b-b81a-0f8206995f0e",
   "metadata": {},
   "outputs": [
    {
     "data": {
      "text/plain": [
       "(10000, 21)"
      ]
     },
     "execution_count": 13,
     "metadata": {},
     "output_type": "execute_result"
    }
   ],
   "source": [
    "numerical_df.shape"
   ]
  },
  {
   "cell_type": "code",
   "execution_count": 16,
   "id": "93fee4d7-b1c1-4578-9f70-cd72a4c19c5e",
   "metadata": {},
   "outputs": [
    {
     "data": {
      "text/plain": [
       "Index(['Marital', 'Gender', 'Churn', 'Techie', 'Contract', 'Port_modem',\n",
       "       'Tablet', 'InternetService', 'Phone', 'Multiple', 'OnlineSecurity',\n",
       "       'OnlineBackup', 'DeviceProtection', 'TechSupport', 'StreamingTV',\n",
       "       'StreamingMovies', 'PaperlessBilling', 'PaymentMethod'],\n",
       "      dtype='object')"
      ]
     },
     "execution_count": 16,
     "metadata": {},
     "output_type": "execute_result"
    }
   ],
   "source": [
    "object_df = df.select_dtypes('object')\n",
    "object_df.columns"
   ]
  },
  {
   "cell_type": "code",
   "execution_count": 17,
   "id": "eee234db-3406-478b-8bea-b9ea2fb0a703",
   "metadata": {},
   "outputs": [
    {
     "data": {
      "text/plain": [
       "(10000, 18)"
      ]
     },
     "execution_count": 17,
     "metadata": {},
     "output_type": "execute_result"
    }
   ],
   "source": [
    "object_df.shape"
   ]
  },
  {
   "cell_type": "code",
   "execution_count": 18,
   "id": "3795c2a1-f179-42ef-865f-130cdaebb460",
   "metadata": {},
   "outputs": [],
   "source": [
    "df = numerical_df"
   ]
  },
  {
   "cell_type": "code",
   "execution_count": 19,
   "id": "9889d372-db6b-4640-808c-32e14021201e",
   "metadata": {},
   "outputs": [
    {
     "data": {
      "text/plain": [
       "Index(['Lat', 'Lng', 'Population', 'Children', 'Age', 'Income',\n",
       "       'Outage_sec_perweek', 'Email', 'Contacts', 'Yearly_equip_failure',\n",
       "       'Tenure', 'MonthlyCharge', 'Bandwidth_GB_Year', 'Item1', 'Item2',\n",
       "       'Item3', 'Item4', 'Item5', 'Item6', 'Item7', 'Item8'],\n",
       "      dtype='object')"
      ]
     },
     "execution_count": 19,
     "metadata": {},
     "output_type": "execute_result"
    }
   ],
   "source": [
    "df.columns"
   ]
  },
  {
   "cell_type": "code",
   "execution_count": 20,
   "id": "6006475f-d742-4d38-babe-db91b848bec9",
   "metadata": {},
   "outputs": [
    {
     "data": {
      "text/plain": [
       "(10000, 21)"
      ]
     },
     "execution_count": 20,
     "metadata": {},
     "output_type": "execute_result"
    }
   ],
   "source": [
    "df.shape"
   ]
  },
  {
   "cell_type": "code",
   "execution_count": 23,
   "id": "49308dd2-c122-48dc-b35d-4ce8b4bb1691",
   "metadata": {},
   "outputs": [
    {
     "data": {
      "text/html": [
       "<div>\n",
       "<style scoped>\n",
       "    .dataframe tbody tr th:only-of-type {\n",
       "        vertical-align: middle;\n",
       "    }\n",
       "\n",
       "    .dataframe tbody tr th {\n",
       "        vertical-align: top;\n",
       "    }\n",
       "\n",
       "    .dataframe thead th {\n",
       "        text-align: right;\n",
       "    }\n",
       "</style>\n",
       "<table border=\"1\" class=\"dataframe\">\n",
       "  <thead>\n",
       "    <tr style=\"text-align: right;\">\n",
       "      <th></th>\n",
       "      <th>Lat</th>\n",
       "      <th>Lng</th>\n",
       "      <th>Population</th>\n",
       "      <th>Age</th>\n",
       "      <th>Income</th>\n",
       "      <th>Outage_sec_perweek</th>\n",
       "      <th>Email</th>\n",
       "      <th>Contacts</th>\n",
       "      <th>Yearly_equip_failure</th>\n",
       "      <th>Tenure</th>\n",
       "      <th>MonthlyCharge</th>\n",
       "      <th>Bandwidth_GB_Year</th>\n",
       "    </tr>\n",
       "  </thead>\n",
       "  <tbody>\n",
       "    <tr>\n",
       "      <th>0</th>\n",
       "      <td>56.25100</td>\n",
       "      <td>-133.37571</td>\n",
       "      <td>38</td>\n",
       "      <td>68</td>\n",
       "      <td>28561.99</td>\n",
       "      <td>7.978323</td>\n",
       "      <td>10</td>\n",
       "      <td>0</td>\n",
       "      <td>1</td>\n",
       "      <td>6.795513</td>\n",
       "      <td>172.455519</td>\n",
       "      <td>904.536110</td>\n",
       "    </tr>\n",
       "    <tr>\n",
       "      <th>1</th>\n",
       "      <td>44.32893</td>\n",
       "      <td>-84.24080</td>\n",
       "      <td>10446</td>\n",
       "      <td>27</td>\n",
       "      <td>21704.77</td>\n",
       "      <td>11.699080</td>\n",
       "      <td>12</td>\n",
       "      <td>0</td>\n",
       "      <td>1</td>\n",
       "      <td>1.156681</td>\n",
       "      <td>242.632554</td>\n",
       "      <td>800.982766</td>\n",
       "    </tr>\n",
       "    <tr>\n",
       "      <th>2</th>\n",
       "      <td>45.35589</td>\n",
       "      <td>-123.24657</td>\n",
       "      <td>3735</td>\n",
       "      <td>50</td>\n",
       "      <td>9609.57</td>\n",
       "      <td>10.752800</td>\n",
       "      <td>9</td>\n",
       "      <td>0</td>\n",
       "      <td>1</td>\n",
       "      <td>15.754144</td>\n",
       "      <td>159.947583</td>\n",
       "      <td>2054.706961</td>\n",
       "    </tr>\n",
       "  </tbody>\n",
       "</table>\n",
       "</div>"
      ],
      "text/plain": [
       "        Lat        Lng  Population  Age    Income  Outage_sec_perweek  Email   \n",
       "0  56.25100 -133.37571          38   68  28561.99            7.978323     10  \\\n",
       "1  44.32893  -84.24080       10446   27  21704.77           11.699080     12   \n",
       "2  45.35589 -123.24657        3735   50   9609.57           10.752800      9   \n",
       "\n",
       "   Contacts  Yearly_equip_failure     Tenure  MonthlyCharge  Bandwidth_GB_Year  \n",
       "0         0                     1   6.795513     172.455519         904.536110  \n",
       "1         0                     1   1.156681     242.632554         800.982766  \n",
       "2         0                     1  15.754144     159.947583        2054.706961  "
      ]
     },
     "execution_count": 23,
     "metadata": {},
     "output_type": "execute_result"
    }
   ],
   "source": [
    "df.drop(columns=['Children', \n",
    "                 'Item1', \n",
    "                 'Item2', \n",
    "                 'Item3', \n",
    "                 'Item4', \n",
    "                 'Item5', \n",
    "                 'Item6', \n",
    "                 'Item7', \n",
    "                 'Item8'],\n",
    "                 inplace=True)\n",
    "df.head(3)"
   ]
  },
  {
   "cell_type": "code",
   "execution_count": 24,
   "id": "aec4d888-32e7-4042-9948-c2c37399af92",
   "metadata": {},
   "outputs": [
    {
     "data": {
      "text/plain": [
       "(10000, 12)"
      ]
     },
     "execution_count": 24,
     "metadata": {},
     "output_type": "execute_result"
    }
   ],
   "source": [
    "df.shape"
   ]
  },
  {
   "cell_type": "code",
   "execution_count": 25,
   "id": "25569465-057a-43f8-87d8-ec683c27cc9e",
   "metadata": {},
   "outputs": [
    {
     "data": {
      "text/plain": [
       "Lat                     float64\n",
       "Lng                     float64\n",
       "Population                int64\n",
       "Age                       int64\n",
       "Income                  float64\n",
       "Outage_sec_perweek      float64\n",
       "Email                     int64\n",
       "Contacts                  int64\n",
       "Yearly_equip_failure      int64\n",
       "Tenure                  float64\n",
       "MonthlyCharge           float64\n",
       "Bandwidth_GB_Year       float64\n",
       "dtype: object"
      ]
     },
     "execution_count": 25,
     "metadata": {},
     "output_type": "execute_result"
    }
   ],
   "source": [
    "df.dtypes"
   ]
  },
  {
   "cell_type": "code",
   "execution_count": 26,
   "id": "b9cc78ca-5b61-4664-ad69-db0ad134423e",
   "metadata": {},
   "outputs": [
    {
     "data": {
      "text/plain": [
       "Lat                     0\n",
       "Lng                     0\n",
       "Population              0\n",
       "Age                     0\n",
       "Income                  0\n",
       "Outage_sec_perweek      0\n",
       "Email                   0\n",
       "Contacts                0\n",
       "Yearly_equip_failure    0\n",
       "Tenure                  0\n",
       "MonthlyCharge           0\n",
       "Bandwidth_GB_Year       0\n",
       "dtype: int64"
      ]
     },
     "execution_count": 26,
     "metadata": {},
     "output_type": "execute_result"
    }
   ],
   "source": [
    "df.isnull().sum()"
   ]
  },
  {
   "cell_type": "code",
   "execution_count": null,
   "id": "362ede68-a478-4cae-a341-9759bc20a901",
   "metadata": {},
   "outputs": [],
   "source": []
  },
  {
   "cell_type": "markdown",
   "id": "8b4dab9b-309a-40e7-b985-11ffb7f09095",
   "metadata": {},
   "source": [
    "## **Correlaton Heatmap**"
   ]
  },
  {
   "cell_type": "code",
   "execution_count": 29,
   "id": "a3fa64d5-db32-4971-90a3-cf253ab47c26",
   "metadata": {
    "scrolled": true
   },
   "outputs": [],
   "source": [
    "corr = df.corr()"
   ]
  },
  {
   "cell_type": "code",
   "execution_count": 28,
   "id": "cc19d922-6eb6-46ef-9250-68315ab38cfb",
   "metadata": {},
   "outputs": [],
   "source": [
    "from sklearn import preprocessing"
   ]
  },
  {
   "cell_type": "code",
   "execution_count": 34,
   "id": "bde7bf08-f751-4f2a-acdc-1e4484a330c0",
   "metadata": {},
   "outputs": [
    {
     "data": {
      "image/png": "[encoded data removed]",
      "text/plain": [
       "<Figure size 1600x600 with 2 Axes>"
      ]
     },
     "metadata": {},
     "output_type": "display_data"
    }
   ],
   "source": [
    "x = plt.subplots(figsize=(16, 6))\n",
    "sns.heatmap(corr, cmap='seismic', linewidth=5, annot=True, fmt='.3f')\n",
    "plt.show()"
   ]
  },
  {
   "cell_type": "code",
   "execution_count": null,
   "id": "6e30ff46-7833-4d14-8b0d-0d65edc1a19c",
   "metadata": {},
   "outputs": [],
   "source": []
  },
  {
   "cell_type": "markdown",
   "id": "6d6bdf18-ed51-4963-ba42-b6e0d25245ad",
   "metadata": {},
   "source": [
    "## **Data Normalization**"
   ]
  },
  {
   "cell_type": "code",
   "execution_count": 36,
   "id": "56784322-0b52-4b86-bf9d-0d643d9e2224",
   "metadata": {},
   "outputs": [
    {
     "data": {
      "text/plain": [
       "array([[ 2.49150047, -2.67486933, -0.23109413, ..., -0.53461297,\n",
       "         0.08181679, -0.54601855],\n",
       "       [ 0.72920498,  0.21642847,  0.60623492, ..., -0.63988949,\n",
       "         1.23689002, -0.56982572],\n",
       "       [ 0.88100806, -2.07882957,  0.06633146, ..., -0.36735607,\n",
       "        -0.12405657, -0.28159143],\n",
       "       ...,\n",
       "       [-0.57285501, -0.73690422, -0.20148833, ...,  0.22378478,\n",
       "         0.04097408,  0.20226104],\n",
       "       [-0.85965576,  0.16396251,  2.62787611, ...,  0.66586433,\n",
       "         1.40134341,  0.73314055],\n",
       "       [-0.69296594,  0.25787352,  0.74975865, ...,  0.52127068,\n",
       "         0.82295943,  0.59269989]])"
      ]
     },
     "execution_count": 36,
     "metadata": {},
     "output_type": "execute_result"
    }
   ],
   "source": [
    "robust = RobustScaler()\n",
    "scaled_data = robust.fit_transform(df)\n",
    "scaled_data"
   ]
  },
  {
   "cell_type": "code",
   "execution_count": null,
   "id": "c05fc07a-426c-4f59-8c64-90359edfe70f",
   "metadata": {},
   "outputs": [],
   "source": []
  },
  {
   "cell_type": "markdown",
   "id": "c7f4b89d-99c9-4808-8cc0-624d95e902d6",
   "metadata": {},
   "source": [
    "## **Create & Apply PCA**\n",
    "- scaled data set\n",
    "- 12 original variables"
   ]
  },
  {
   "cell_type": "code",
   "execution_count": 39,
   "id": "fff1b194-6788-402f-bd8c-3a1fe67cdf3b",
   "metadata": {},
   "outputs": [
    {
     "data": {
      "text/plain": [
       "array([[-1.30748989,  3.21828787, -0.37950074, ..., -0.38451102,\n",
       "        -0.47883292, -0.02263541],\n",
       "       [-0.17980335, -0.09891778, -0.55667452, ...,  0.81208964,\n",
       "        -0.46239552, -0.02408867],\n",
       "       [-0.63316987,  2.12575986, -0.92155629, ...,  0.10332422,\n",
       "        -0.46924792,  0.03981557],\n",
       "       ...,\n",
       "       [-0.59437105,  0.3754556 ,  0.22421688, ...,  0.13743195,\n",
       "        -0.47443293, -0.04965589],\n",
       "       [ 2.1987375 , -0.56489769, -0.69266102, ...,  0.42245481,\n",
       "        -0.00718636, -0.0401424 ],\n",
       "       [ 0.36075701, -0.69557242, -0.96908427, ...,  0.70315498,\n",
       "         0.01372041, -0.02284259]])"
      ]
     },
     "execution_count": 39,
     "metadata": {},
     "output_type": "execute_result"
    }
   ],
   "source": [
    "pca = PCA(n_components = 12)\n",
    "pca_model = pca.fit_transform(scaled_data)\n",
    "pca_model"
   ]
  },
  {
   "cell_type": "markdown",
   "id": "8d7d44a5-8e97-4bd5-8824-95006d9b2e50",
   "metadata": {},
   "source": [
    "## **Loading Matrix**"
   ]
  },
  {
   "cell_type": "code",
   "execution_count": 41,
   "id": "dc5092c6-707e-447e-b804-eb7ae0775322",
   "metadata": {},
   "outputs": [
    {
     "data": {
      "text/html": [
       "<div>\n",
       "<style scoped>\n",
       "    .dataframe tbody tr th:only-of-type {\n",
       "        vertical-align: middle;\n",
       "    }\n",
       "\n",
       "    .dataframe tbody tr th {\n",
       "        vertical-align: top;\n",
       "    }\n",
       "\n",
       "    .dataframe thead th {\n",
       "        text-align: right;\n",
       "    }\n",
       "</style>\n",
       "<table border=\"1\" class=\"dataframe\">\n",
       "  <thead>\n",
       "    <tr style=\"text-align: right;\">\n",
       "      <th></th>\n",
       "      <th>Lat</th>\n",
       "      <th>Lng</th>\n",
       "      <th>Population</th>\n",
       "      <th>Age</th>\n",
       "      <th>Income</th>\n",
       "      <th>Outage_sec_perweek</th>\n",
       "      <th>Email</th>\n",
       "      <th>Contacts</th>\n",
       "      <th>Yearly_equip_failure</th>\n",
       "      <th>Tenure</th>\n",
       "      <th>MonthlyCharge</th>\n",
       "      <th>Bandwidth_GB_Year</th>\n",
       "    </tr>\n",
       "  </thead>\n",
       "  <tbody>\n",
       "    <tr>\n",
       "      <th>PC1</th>\n",
       "      <td>-0.257290</td>\n",
       "      <td>-0.048289</td>\n",
       "      <td>0.964702</td>\n",
       "      <td>0.006363</td>\n",
       "      <td>-0.012815</td>\n",
       "      <td>0.004480</td>\n",
       "      <td>0.023713</td>\n",
       "      <td>0.002020</td>\n",
       "      <td>-0.002291</td>\n",
       "      <td>-0.000641</td>\n",
       "      <td>-0.004664</td>\n",
       "      <td>-0.000819</td>\n",
       "    </tr>\n",
       "    <tr>\n",
       "      <th>PC2</th>\n",
       "      <td>0.335223</td>\n",
       "      <td>-0.939236</td>\n",
       "      <td>0.043795</td>\n",
       "      <td>-0.012438</td>\n",
       "      <td>0.025845</td>\n",
       "      <td>-0.011272</td>\n",
       "      <td>-0.041878</td>\n",
       "      <td>-0.006494</td>\n",
       "      <td>0.004650</td>\n",
       "      <td>-0.010933</td>\n",
       "      <td>-0.022802</td>\n",
       "      <td>-0.011723</td>\n",
       "    </tr>\n",
       "    <tr>\n",
       "      <th>PC3</th>\n",
       "      <td>-0.005011</td>\n",
       "      <td>0.029332</td>\n",
       "      <td>0.014818</td>\n",
       "      <td>-0.004242</td>\n",
       "      <td>0.996728</td>\n",
       "      <td>-0.051919</td>\n",
       "      <td>-0.048642</td>\n",
       "      <td>0.000575</td>\n",
       "      <td>0.010996</td>\n",
       "      <td>0.006704</td>\n",
       "      <td>-0.011307</td>\n",
       "      <td>0.007412</td>\n",
       "    </tr>\n",
       "    <tr>\n",
       "      <th>PC4</th>\n",
       "      <td>-0.471114</td>\n",
       "      <td>-0.207835</td>\n",
       "      <td>-0.155309</td>\n",
       "      <td>-0.003735</td>\n",
       "      <td>0.038165</td>\n",
       "      <td>-0.160069</td>\n",
       "      <td>0.825117</td>\n",
       "      <td>-0.002072</td>\n",
       "      <td>-0.021890</td>\n",
       "      <td>-0.023423</td>\n",
       "      <td>-0.034310</td>\n",
       "      <td>-0.024792</td>\n",
       "    </tr>\n",
       "    <tr>\n",
       "      <th>PC5</th>\n",
       "      <td>-0.189695</td>\n",
       "      <td>-0.043080</td>\n",
       "      <td>-0.042485</td>\n",
       "      <td>0.008944</td>\n",
       "      <td>-0.063610</td>\n",
       "      <td>-0.915859</td>\n",
       "      <td>-0.307573</td>\n",
       "      <td>-0.017844</td>\n",
       "      <td>0.014994</td>\n",
       "      <td>0.005525</td>\n",
       "      <td>-0.149180</td>\n",
       "      <td>-0.001094</td>\n",
       "    </tr>\n",
       "    <tr>\n",
       "      <th>PC6</th>\n",
       "      <td>-0.736299</td>\n",
       "      <td>-0.260517</td>\n",
       "      <td>-0.199055</td>\n",
       "      <td>-0.012782</td>\n",
       "      <td>-0.000533</td>\n",
       "      <td>0.314970</td>\n",
       "      <td>-0.449596</td>\n",
       "      <td>0.002143</td>\n",
       "      <td>0.059498</td>\n",
       "      <td>0.138641</td>\n",
       "      <td>0.070710</td>\n",
       "      <td>0.145258</td>\n",
       "    </tr>\n",
       "    <tr>\n",
       "      <th>PC7</th>\n",
       "      <td>0.099206</td>\n",
       "      <td>0.005696</td>\n",
       "      <td>0.029580</td>\n",
       "      <td>0.023429</td>\n",
       "      <td>-0.002112</td>\n",
       "      <td>-0.174296</td>\n",
       "      <td>0.086674</td>\n",
       "      <td>0.003829</td>\n",
       "      <td>-0.005083</td>\n",
       "      <td>0.403791</td>\n",
       "      <td>0.768164</td>\n",
       "      <td>0.444570</td>\n",
       "    </tr>\n",
       "    <tr>\n",
       "      <th>PC8</th>\n",
       "      <td>-0.103304</td>\n",
       "      <td>-0.035388</td>\n",
       "      <td>-0.024830</td>\n",
       "      <td>0.012750</td>\n",
       "      <td>0.009331</td>\n",
       "      <td>-0.049711</td>\n",
       "      <td>-0.090597</td>\n",
       "      <td>-0.000847</td>\n",
       "      <td>-0.064410</td>\n",
       "      <td>-0.554806</td>\n",
       "      <td>0.614428</td>\n",
       "      <td>-0.535770</td>\n",
       "    </tr>\n",
       "    <tr>\n",
       "      <th>PC9</th>\n",
       "      <td>0.027979</td>\n",
       "      <td>0.012730</td>\n",
       "      <td>0.009139</td>\n",
       "      <td>0.046818</td>\n",
       "      <td>-0.008472</td>\n",
       "      <td>-0.011105</td>\n",
       "      <td>0.044915</td>\n",
       "      <td>-0.010438</td>\n",
       "      <td>0.994633</td>\n",
       "      <td>-0.042188</td>\n",
       "      <td>0.040100</td>\n",
       "      <td>-0.042140</td>\n",
       "    </tr>\n",
       "    <tr>\n",
       "      <th>PC10</th>\n",
       "      <td>0.006036</td>\n",
       "      <td>0.015592</td>\n",
       "      <td>0.009203</td>\n",
       "      <td>-0.996879</td>\n",
       "      <td>-0.005605</td>\n",
       "      <td>-0.015636</td>\n",
       "      <td>0.003927</td>\n",
       "      <td>-0.050211</td>\n",
       "      <td>0.044466</td>\n",
       "      <td>-0.015157</td>\n",
       "      <td>0.025529</td>\n",
       "      <td>0.014051</td>\n",
       "    </tr>\n",
       "    <tr>\n",
       "      <th>PC11</th>\n",
       "      <td>0.000045</td>\n",
       "      <td>-0.005804</td>\n",
       "      <td>-0.001906</td>\n",
       "      <td>-0.049622</td>\n",
       "      <td>-0.001791</td>\n",
       "      <td>-0.017704</td>\n",
       "      <td>-0.002854</td>\n",
       "      <td>0.998489</td>\n",
       "      <td>0.012722</td>\n",
       "      <td>-0.003905</td>\n",
       "      <td>-0.003759</td>\n",
       "      <td>-0.001999</td>\n",
       "    </tr>\n",
       "    <tr>\n",
       "      <th>PC12</th>\n",
       "      <td>0.000663</td>\n",
       "      <td>0.000268</td>\n",
       "      <td>0.000014</td>\n",
       "      <td>0.019915</td>\n",
       "      <td>-0.000691</td>\n",
       "      <td>0.000147</td>\n",
       "      <td>0.000109</td>\n",
       "      <td>-0.000507</td>\n",
       "      <td>-0.000188</td>\n",
       "      <td>-0.712147</td>\n",
       "      <td>-0.032038</td>\n",
       "      <td>0.701015</td>\n",
       "    </tr>\n",
       "  </tbody>\n",
       "</table>\n",
       "</div>"
      ],
      "text/plain": [
       "           Lat       Lng  Population       Age    Income  Outage_sec_perweek   \n",
       "PC1  -0.257290 -0.048289    0.964702  0.006363 -0.012815            0.004480  \\\n",
       "PC2   0.335223 -0.939236    0.043795 -0.012438  0.025845           -0.011272   \n",
       "PC3  -0.005011  0.029332    0.014818 -0.004242  0.996728           -0.051919   \n",
       "PC4  -0.471114 -0.207835   -0.155309 -0.003735  0.038165           -0.160069   \n",
       "PC5  -0.189695 -0.043080   -0.042485  0.008944 -0.063610           -0.915859   \n",
       "PC6  -0.736299 -0.260517   -0.199055 -0.012782 -0.000533            0.314970   \n",
       "PC7   0.099206  0.005696    0.029580  0.023429 -0.002112           -0.174296   \n",
       "PC8  -0.103304 -0.035388   -0.024830  0.012750  0.009331           -0.049711   \n",
       "PC9   0.027979  0.012730    0.009139  0.046818 -0.008472           -0.011105   \n",
       "PC10  0.006036  0.015592    0.009203 -0.996879 -0.005605           -0.015636   \n",
       "PC11  0.000045 -0.005804   -0.001906 -0.049622 -0.001791           -0.017704   \n",
       "PC12  0.000663  0.000268    0.000014  0.019915 -0.000691            0.000147   \n",
       "\n",
       "         Email  Contacts  Yearly_equip_failure    Tenure  MonthlyCharge   \n",
       "PC1   0.023713  0.002020             -0.002291 -0.000641      -0.004664  \\\n",
       "PC2  -0.041878 -0.006494              0.004650 -0.010933      -0.022802   \n",
       "PC3  -0.048642  0.000575              0.010996  0.006704      -0.011307   \n",
       "PC4   0.825117 -0.002072             -0.021890 -0.023423      -0.034310   \n",
       "PC5  -0.307573 -0.017844              0.014994  0.005525      -0.149180   \n",
       "PC6  -0.449596  0.002143              0.059498  0.138641       0.070710   \n",
       "PC7   0.086674  0.003829             -0.005083  0.403791       0.768164   \n",
       "PC8  -0.090597 -0.000847             -0.064410 -0.554806       0.614428   \n",
       "PC9   0.044915 -0.010438              0.994633 -0.042188       0.040100   \n",
       "PC10  0.003927 -0.050211              0.044466 -0.015157       0.025529   \n",
       "PC11 -0.002854  0.998489              0.012722 -0.003905      -0.003759   \n",
       "PC12  0.000109 -0.000507             -0.000188 -0.712147      -0.032038   \n",
       "\n",
       "      Bandwidth_GB_Year  \n",
       "PC1           -0.000819  \n",
       "PC2           -0.011723  \n",
       "PC3            0.007412  \n",
       "PC4           -0.024792  \n",
       "PC5           -0.001094  \n",
       "PC6            0.145258  \n",
       "PC7            0.444570  \n",
       "PC8           -0.535770  \n",
       "PC9           -0.042140  \n",
       "PC10           0.014051  \n",
       "PC11          -0.001999  \n",
       "PC12           0.701015  "
      ]
     },
     "execution_count": 41,
     "metadata": {},
     "output_type": "execute_result"
    }
   ],
   "source": [
    "loading_matrix = pd.DataFrame(pca.components_.T, columns=[\n",
    "            'PC1', 'PC2', 'PC3', 'PC4', 'PC5', 'PC6', 'PC7', 'PC8', 'PC9', 'PC10', 'PC11', 'PC12'],\n",
    "             index=df.columns).T\n",
    "loading_matrix"
   ]
  },
  {
   "cell_type": "code",
   "execution_count": 42,
   "id": "747b58c3-004e-451b-a9c8-e8ac96e1874b",
   "metadata": {},
   "outputs": [],
   "source": [
    "# .T allows for 'PC' titles to be arranged vertically and variable names to be arranged horizontally"
   ]
  },
  {
   "cell_type": "code",
   "execution_count": 73,
   "id": "600549eb-dba5-4579-9137-3f8be9aec3a8",
   "metadata": {
    "collapsed": true,
    "jupyter": {
     "outputs_hidden": true
    },
    "scrolled": true
   },
   "outputs": [
    {
     "data": {
      "text/html": [
       "<div>\n",
       "<style scoped>\n",
       "    .dataframe tbody tr th:only-of-type {\n",
       "        vertical-align: middle;\n",
       "    }\n",
       "\n",
       "    .dataframe tbody tr th {\n",
       "        vertical-align: top;\n",
       "    }\n",
       "\n",
       "    .dataframe thead th {\n",
       "        text-align: right;\n",
       "    }\n",
       "</style>\n",
       "<table border=\"1\" class=\"dataframe\">\n",
       "  <thead>\n",
       "    <tr style=\"text-align: right;\">\n",
       "      <th></th>\n",
       "      <th>Lat</th>\n",
       "      <th>Lng</th>\n",
       "      <th>Population</th>\n",
       "      <th>Age</th>\n",
       "      <th>Income</th>\n",
       "      <th>Outage_sec_perweek</th>\n",
       "      <th>Email</th>\n",
       "      <th>Contacts</th>\n",
       "      <th>Yearly_equip_failure</th>\n",
       "      <th>Tenure</th>\n",
       "      <th>MonthlyCharge</th>\n",
       "      <th>Bandwidth_GB_Year</th>\n",
       "    </tr>\n",
       "  </thead>\n",
       "  <tbody>\n",
       "    <tr>\n",
       "      <th>Lat</th>\n",
       "      <td>-0.257290</td>\n",
       "      <td>-0.048289</td>\n",
       "      <td>0.964702</td>\n",
       "      <td>0.006363</td>\n",
       "      <td>-0.012815</td>\n",
       "      <td>0.004480</td>\n",
       "      <td>0.023713</td>\n",
       "      <td>0.002020</td>\n",
       "      <td>-0.002291</td>\n",
       "      <td>-0.000641</td>\n",
       "      <td>-0.004664</td>\n",
       "      <td>-0.000819</td>\n",
       "    </tr>\n",
       "    <tr>\n",
       "      <th>Lng</th>\n",
       "      <td>0.335223</td>\n",
       "      <td>-0.939236</td>\n",
       "      <td>0.043795</td>\n",
       "      <td>-0.012438</td>\n",
       "      <td>0.025845</td>\n",
       "      <td>-0.011272</td>\n",
       "      <td>-0.041878</td>\n",
       "      <td>-0.006494</td>\n",
       "      <td>0.004650</td>\n",
       "      <td>-0.010933</td>\n",
       "      <td>-0.022802</td>\n",
       "      <td>-0.011723</td>\n",
       "    </tr>\n",
       "    <tr>\n",
       "      <th>Population</th>\n",
       "      <td>-0.005011</td>\n",
       "      <td>0.029332</td>\n",
       "      <td>0.014818</td>\n",
       "      <td>-0.004242</td>\n",
       "      <td>0.996728</td>\n",
       "      <td>-0.051919</td>\n",
       "      <td>-0.048642</td>\n",
       "      <td>0.000575</td>\n",
       "      <td>0.010996</td>\n",
       "      <td>0.006704</td>\n",
       "      <td>-0.011307</td>\n",
       "      <td>0.007412</td>\n",
       "    </tr>\n",
       "    <tr>\n",
       "      <th>Age</th>\n",
       "      <td>-0.471114</td>\n",
       "      <td>-0.207835</td>\n",
       "      <td>-0.155309</td>\n",
       "      <td>-0.003735</td>\n",
       "      <td>0.038165</td>\n",
       "      <td>-0.160069</td>\n",
       "      <td>0.825117</td>\n",
       "      <td>-0.002072</td>\n",
       "      <td>-0.021890</td>\n",
       "      <td>-0.023423</td>\n",
       "      <td>-0.034310</td>\n",
       "      <td>-0.024792</td>\n",
       "    </tr>\n",
       "    <tr>\n",
       "      <th>Income</th>\n",
       "      <td>-0.189695</td>\n",
       "      <td>-0.043080</td>\n",
       "      <td>-0.042485</td>\n",
       "      <td>0.008944</td>\n",
       "      <td>-0.063610</td>\n",
       "      <td>-0.915859</td>\n",
       "      <td>-0.307573</td>\n",
       "      <td>-0.017844</td>\n",
       "      <td>0.014994</td>\n",
       "      <td>0.005525</td>\n",
       "      <td>-0.149180</td>\n",
       "      <td>-0.001094</td>\n",
       "    </tr>\n",
       "    <tr>\n",
       "      <th>Outage_sec_perweek</th>\n",
       "      <td>-0.736299</td>\n",
       "      <td>-0.260517</td>\n",
       "      <td>-0.199055</td>\n",
       "      <td>-0.012782</td>\n",
       "      <td>-0.000533</td>\n",
       "      <td>0.314970</td>\n",
       "      <td>-0.449596</td>\n",
       "      <td>0.002143</td>\n",
       "      <td>0.059498</td>\n",
       "      <td>0.138641</td>\n",
       "      <td>0.070710</td>\n",
       "      <td>0.145258</td>\n",
       "    </tr>\n",
       "    <tr>\n",
       "      <th>Email</th>\n",
       "      <td>0.099206</td>\n",
       "      <td>0.005696</td>\n",
       "      <td>0.029580</td>\n",
       "      <td>0.023429</td>\n",
       "      <td>-0.002112</td>\n",
       "      <td>-0.174296</td>\n",
       "      <td>0.086674</td>\n",
       "      <td>0.003829</td>\n",
       "      <td>-0.005083</td>\n",
       "      <td>0.403791</td>\n",
       "      <td>0.768164</td>\n",
       "      <td>0.444570</td>\n",
       "    </tr>\n",
       "    <tr>\n",
       "      <th>Contacts</th>\n",
       "      <td>-0.103304</td>\n",
       "      <td>-0.035388</td>\n",
       "      <td>-0.024830</td>\n",
       "      <td>0.012750</td>\n",
       "      <td>0.009331</td>\n",
       "      <td>-0.049711</td>\n",
       "      <td>-0.090597</td>\n",
       "      <td>-0.000847</td>\n",
       "      <td>-0.064410</td>\n",
       "      <td>-0.554806</td>\n",
       "      <td>0.614428</td>\n",
       "      <td>-0.535770</td>\n",
       "    </tr>\n",
       "    <tr>\n",
       "      <th>Yearly_equip_failure</th>\n",
       "      <td>0.027979</td>\n",
       "      <td>0.012730</td>\n",
       "      <td>0.009139</td>\n",
       "      <td>0.046818</td>\n",
       "      <td>-0.008472</td>\n",
       "      <td>-0.011105</td>\n",
       "      <td>0.044915</td>\n",
       "      <td>-0.010438</td>\n",
       "      <td>0.994633</td>\n",
       "      <td>-0.042188</td>\n",
       "      <td>0.040100</td>\n",
       "      <td>-0.042140</td>\n",
       "    </tr>\n",
       "    <tr>\n",
       "      <th>Tenure</th>\n",
       "      <td>0.006036</td>\n",
       "      <td>0.015592</td>\n",
       "      <td>0.009203</td>\n",
       "      <td>-0.996879</td>\n",
       "      <td>-0.005605</td>\n",
       "      <td>-0.015636</td>\n",
       "      <td>0.003927</td>\n",
       "      <td>-0.050211</td>\n",
       "      <td>0.044466</td>\n",
       "      <td>-0.015157</td>\n",
       "      <td>0.025529</td>\n",
       "      <td>0.014051</td>\n",
       "    </tr>\n",
       "    <tr>\n",
       "      <th>MonthlyCharge</th>\n",
       "      <td>0.000045</td>\n",
       "      <td>-0.005804</td>\n",
       "      <td>-0.001906</td>\n",
       "      <td>-0.049622</td>\n",
       "      <td>-0.001791</td>\n",
       "      <td>-0.017704</td>\n",
       "      <td>-0.002854</td>\n",
       "      <td>0.998489</td>\n",
       "      <td>0.012722</td>\n",
       "      <td>-0.003905</td>\n",
       "      <td>-0.003759</td>\n",
       "      <td>-0.001999</td>\n",
       "    </tr>\n",
       "    <tr>\n",
       "      <th>Bandwidth_GB_Year</th>\n",
       "      <td>0.000663</td>\n",
       "      <td>0.000268</td>\n",
       "      <td>0.000014</td>\n",
       "      <td>0.019915</td>\n",
       "      <td>-0.000691</td>\n",
       "      <td>0.000147</td>\n",
       "      <td>0.000109</td>\n",
       "      <td>-0.000507</td>\n",
       "      <td>-0.000188</td>\n",
       "      <td>-0.712147</td>\n",
       "      <td>-0.032038</td>\n",
       "      <td>0.701015</td>\n",
       "    </tr>\n",
       "  </tbody>\n",
       "</table>\n",
       "</div>"
      ],
      "text/plain": [
       "                           Lat       Lng  Population       Age    Income   \n",
       "Lat                  -0.257290 -0.048289    0.964702  0.006363 -0.012815  \\\n",
       "Lng                   0.335223 -0.939236    0.043795 -0.012438  0.025845   \n",
       "Population           -0.005011  0.029332    0.014818 -0.004242  0.996728   \n",
       "Age                  -0.471114 -0.207835   -0.155309 -0.003735  0.038165   \n",
       "Income               -0.189695 -0.043080   -0.042485  0.008944 -0.063610   \n",
       "Outage_sec_perweek   -0.736299 -0.260517   -0.199055 -0.012782 -0.000533   \n",
       "Email                 0.099206  0.005696    0.029580  0.023429 -0.002112   \n",
       "Contacts             -0.103304 -0.035388   -0.024830  0.012750  0.009331   \n",
       "Yearly_equip_failure  0.027979  0.012730    0.009139  0.046818 -0.008472   \n",
       "Tenure                0.006036  0.015592    0.009203 -0.996879 -0.005605   \n",
       "MonthlyCharge         0.000045 -0.005804   -0.001906 -0.049622 -0.001791   \n",
       "Bandwidth_GB_Year     0.000663  0.000268    0.000014  0.019915 -0.000691   \n",
       "\n",
       "                      Outage_sec_perweek     Email  Contacts   \n",
       "Lat                             0.004480  0.023713  0.002020  \\\n",
       "Lng                            -0.011272 -0.041878 -0.006494   \n",
       "Population                     -0.051919 -0.048642  0.000575   \n",
       "Age                            -0.160069  0.825117 -0.002072   \n",
       "Income                         -0.915859 -0.307573 -0.017844   \n",
       "Outage_sec_perweek              0.314970 -0.449596  0.002143   \n",
       "Email                          -0.174296  0.086674  0.003829   \n",
       "Contacts                       -0.049711 -0.090597 -0.000847   \n",
       "Yearly_equip_failure           -0.011105  0.044915 -0.010438   \n",
       "Tenure                         -0.015636  0.003927 -0.050211   \n",
       "MonthlyCharge                  -0.017704 -0.002854  0.998489   \n",
       "Bandwidth_GB_Year               0.000147  0.000109 -0.000507   \n",
       "\n",
       "                      Yearly_equip_failure    Tenure  MonthlyCharge   \n",
       "Lat                              -0.002291 -0.000641      -0.004664  \\\n",
       "Lng                               0.004650 -0.010933      -0.022802   \n",
       "Population                        0.010996  0.006704      -0.011307   \n",
       "Age                              -0.021890 -0.023423      -0.034310   \n",
       "Income                            0.014994  0.005525      -0.149180   \n",
       "Outage_sec_perweek                0.059498  0.138641       0.070710   \n",
       "Email                            -0.005083  0.403791       0.768164   \n",
       "Contacts                         -0.064410 -0.554806       0.614428   \n",
       "Yearly_equip_failure              0.994633 -0.042188       0.040100   \n",
       "Tenure                            0.044466 -0.015157       0.025529   \n",
       "MonthlyCharge                     0.012722 -0.003905      -0.003759   \n",
       "Bandwidth_GB_Year                -0.000188 -0.712147      -0.032038   \n",
       "\n",
       "                      Bandwidth_GB_Year  \n",
       "Lat                           -0.000819  \n",
       "Lng                           -0.011723  \n",
       "Population                     0.007412  \n",
       "Age                           -0.024792  \n",
       "Income                        -0.001094  \n",
       "Outage_sec_perweek             0.145258  \n",
       "Email                          0.444570  \n",
       "Contacts                      -0.535770  \n",
       "Yearly_equip_failure          -0.042140  \n",
       "Tenure                         0.014051  \n",
       "MonthlyCharge                 -0.001999  \n",
       "Bandwidth_GB_Year              0.701015  "
      ]
     },
     "execution_count": 73,
     "metadata": {},
     "output_type": "execute_result"
    }
   ],
   "source": [
    "loading_matrix = pd.DataFrame(pca.components_.T, columns=df.columns,\n",
    "             index=df.columns).T\n",
    "loading_matrix"
   ]
  },
  {
   "cell_type": "markdown",
   "id": "4cb214d6-b75f-430c-bd99-49e514fc4fb0",
   "metadata": {},
   "source": [
    "## **Screeplot with Elbow Method**"
   ]
  },
  {
   "cell_type": "markdown",
   "id": "53d99e3e-8b2a-4b2f-a9b4-5f1009bb7900",
   "metadata": {},
   "source": [
    "### proportion of explained variance: "
   ]
  },
  {
   "cell_type": "code",
   "execution_count": 43,
   "id": "47d78e93-eea3-4e87-acc4-54ced6590592",
   "metadata": {},
   "outputs": [
    {
     "data": {
      "text/plain": [
       "array([0.21334604, 0.12503905, 0.10430996, 0.08771439, 0.08655625,\n",
       "       0.0842252 , 0.07725646, 0.07296015, 0.06122962, 0.05013718,\n",
       "       0.03700236, 0.00022334])"
      ]
     },
     "execution_count": 43,
     "metadata": {},
     "output_type": "execute_result"
    }
   ],
   "source": [
    "exp_var = pca.explained_variance_ratio_\n",
    "exp_var"
   ]
  },
  {
   "cell_type": "code",
   "execution_count": 44,
   "id": "06529cad-8b44-40d2-b775-015778734143",
   "metadata": {},
   "outputs": [
    {
     "data": {
      "text/plain": [
       "array([ 1,  2,  3,  4,  5,  6,  7,  8,  9, 10, 11, 12])"
      ]
     },
     "execution_count": 44,
     "metadata": {},
     "output_type": "execute_result"
    }
   ],
   "source": [
    "p_components = np.arange(pca.n_components_) + 1\n",
    "p_components"
   ]
  },
  {
   "cell_type": "markdown",
   "id": "ce4bf7dc-268d-4890-a510-d894019665cc",
   "metadata": {},
   "source": [
    "### scree plot"
   ]
  },
  {
   "cell_type": "code",
   "execution_count": 45,
   "id": "a7d610c7-2de5-4a2c-8285-e8121b4a742a",
   "metadata": {},
   "outputs": [
    {
     "data": {
      "image/png": "[encoded data removed]",
      "text/plain": [
       "<Figure size 640x480 with 1 Axes>"
      ]
     },
     "metadata": {},
     "output_type": "display_data"
    }
   ],
   "source": [
    "plt.figure()\n",
    "plt.plot(p_components, exp_var, 'b-')\n",
    "plt.title('SCREE PLOT | ELBOW METHOD')\n",
    "plt.xlabel('Number of Components')\n",
    "plt.ylabel('Variance Proportion')\n",
    "plt.grid()\n",
    "plt.show()"
   ]
  },
  {
   "cell_type": "markdown",
   "id": "32cb2173-5056-4f99-8fbc-954018a16977",
   "metadata": {},
   "source": [
    "## **Kaiser Criteron with Scree Plot**"
   ]
  },
  {
   "cell_type": "code",
   "execution_count": 52,
   "id": "41d082bb-dc88-4844-a3aa-55b8d4e9d1a7",
   "metadata": {},
   "outputs": [],
   "source": [
    "eigenvalues = np.linalg.eigvals(loading_matrix)"
   ]
  },
  {
   "cell_type": "code",
   "execution_count": 55,
   "id": "0a474757-2eae-4117-b36a-215a2618c746",
   "metadata": {},
   "outputs": [],
   "source": [
    "eigenvalues = np.sort(eigenvalues)[::-1]"
   ]
  },
  {
   "cell_type": "code",
   "execution_count": 56,
   "id": "5b726de9-d344-4e0a-aa70-69584068025a",
   "metadata": {},
   "outputs": [
    {
     "data": {
      "image/png": "[encoded data removed]",
      "text/plain": [
       "<Figure size 640x480 with 1 Axes>"
      ]
     },
     "metadata": {},
     "output_type": "display_data"
    }
   ],
   "source": [
    "plt.figure()\n",
    "plt.plot(p_components, eigenvalues, 'b-')\n",
    "plt.title('SCREE PLOT | KAISER CRITERION')\n",
    "plt.xlabel('Number of Components')\n",
    "plt.ylabel('Eigenvalues')\n",
    "plt.axhline(y=1, color='r', linestyle='dashdot')\n",
    "plt.grid()\n",
    "plt.show()"
   ]
  },
  {
   "cell_type": "code",
   "execution_count": null,
   "id": "d9df37a9-b3d5-4127-9e51-12e530eb911c",
   "metadata": {},
   "outputs": [],
   "source": []
  },
  {
   "cell_type": "markdown",
   "id": "2fcb0ca7-2076-4188-9dde-1035d0ee1ac9",
   "metadata": {},
   "source": [
    "## **Export scaled data**"
   ]
  },
  {
   "cell_type": "code",
   "execution_count": 58,
   "id": "281bab62-ae3c-463a-877a-12b1029af026",
   "metadata": {},
   "outputs": [
    {
     "data": {
      "text/html": [
       "<div>\n",
       "<style scoped>\n",
       "    .dataframe tbody tr th:only-of-type {\n",
       "        vertical-align: middle;\n",
       "    }\n",
       "\n",
       "    .dataframe tbody tr th {\n",
       "        vertical-align: top;\n",
       "    }\n",
       "\n",
       "    .dataframe thead th {\n",
       "        text-align: right;\n",
       "    }\n",
       "</style>\n",
       "<table border=\"1\" class=\"dataframe\">\n",
       "  <thead>\n",
       "    <tr style=\"text-align: right;\">\n",
       "      <th></th>\n",
       "      <th>Lat</th>\n",
       "      <th>Lng</th>\n",
       "      <th>Population</th>\n",
       "      <th>Age</th>\n",
       "      <th>Income</th>\n",
       "      <th>Outage_sec_perweek</th>\n",
       "      <th>Email</th>\n",
       "      <th>Contacts</th>\n",
       "      <th>Yearly_equip_failure</th>\n",
       "      <th>Tenure</th>\n",
       "      <th>MonthlyCharge</th>\n",
       "      <th>Bandwidth_GB_Year</th>\n",
       "    </tr>\n",
       "  </thead>\n",
       "  <tbody>\n",
       "    <tr>\n",
       "      <th>0</th>\n",
       "      <td>2.491500</td>\n",
       "      <td>-2.674869</td>\n",
       "      <td>-0.231094</td>\n",
       "      <td>0.416667</td>\n",
       "      <td>-0.135462</td>\n",
       "      <td>-0.516350</td>\n",
       "      <td>-0.50</td>\n",
       "      <td>-0.5</td>\n",
       "      <td>1.0</td>\n",
       "      <td>-0.534613</td>\n",
       "      <td>0.081817</td>\n",
       "      <td>-0.546019</td>\n",
       "    </tr>\n",
       "    <tr>\n",
       "      <th>1</th>\n",
       "      <td>0.729205</td>\n",
       "      <td>0.216428</td>\n",
       "      <td>0.606235</td>\n",
       "      <td>-0.722222</td>\n",
       "      <td>-0.337018</td>\n",
       "      <td>0.425311</td>\n",
       "      <td>0.00</td>\n",
       "      <td>-0.5</td>\n",
       "      <td>1.0</td>\n",
       "      <td>-0.639889</td>\n",
       "      <td>1.236890</td>\n",
       "      <td>-0.569826</td>\n",
       "    </tr>\n",
       "    <tr>\n",
       "      <th>2</th>\n",
       "      <td>0.881008</td>\n",
       "      <td>-2.078830</td>\n",
       "      <td>0.066331</td>\n",
       "      <td>-0.083333</td>\n",
       "      <td>-0.692535</td>\n",
       "      <td>0.185824</td>\n",
       "      <td>-0.75</td>\n",
       "      <td>-0.5</td>\n",
       "      <td>1.0</td>\n",
       "      <td>-0.367356</td>\n",
       "      <td>-0.124057</td>\n",
       "      <td>-0.281591</td>\n",
       "    </tr>\n",
       "    <tr>\n",
       "      <th>3</th>\n",
       "      <td>-0.950311</td>\n",
       "      <td>-1.725848</td>\n",
       "      <td>0.881134</td>\n",
       "      <td>-0.138889</td>\n",
       "      <td>-0.418717</td>\n",
       "      <td>1.238837</td>\n",
       "      <td>0.75</td>\n",
       "      <td>0.5</td>\n",
       "      <td>0.0</td>\n",
       "      <td>-0.342468</td>\n",
       "      <td>-0.782281</td>\n",
       "      <td>-0.256331</td>\n",
       "    </tr>\n",
       "    <tr>\n",
       "      <th>4</th>\n",
       "      <td>-1.480497</td>\n",
       "      <td>-0.464158</td>\n",
       "      <td>0.679123</td>\n",
       "      <td>0.833333</td>\n",
       "      <td>0.202919</td>\n",
       "      <td>-0.473555</td>\n",
       "      <td>1.00</td>\n",
       "      <td>0.5</td>\n",
       "      <td>1.0</td>\n",
       "      <td>-0.630288</td>\n",
       "      <td>-0.288639</td>\n",
       "      <td>-0.691557</td>\n",
       "    </tr>\n",
       "  </tbody>\n",
       "</table>\n",
       "</div>"
      ],
      "text/plain": [
       "        Lat       Lng  Population       Age    Income  Outage_sec_perweek   \n",
       "0  2.491500 -2.674869   -0.231094  0.416667 -0.135462           -0.516350  \\\n",
       "1  0.729205  0.216428    0.606235 -0.722222 -0.337018            0.425311   \n",
       "2  0.881008 -2.078830    0.066331 -0.083333 -0.692535            0.185824   \n",
       "3 -0.950311 -1.725848    0.881134 -0.138889 -0.418717            1.238837   \n",
       "4 -1.480497 -0.464158    0.679123  0.833333  0.202919           -0.473555   \n",
       "\n",
       "   Email  Contacts  Yearly_equip_failure    Tenure  MonthlyCharge   \n",
       "0  -0.50      -0.5                   1.0 -0.534613       0.081817  \\\n",
       "1   0.00      -0.5                   1.0 -0.639889       1.236890   \n",
       "2  -0.75      -0.5                   1.0 -0.367356      -0.124057   \n",
       "3   0.75       0.5                   0.0 -0.342468      -0.782281   \n",
       "4   1.00       0.5                   1.0 -0.630288      -0.288639   \n",
       "\n",
       "   Bandwidth_GB_Year  \n",
       "0          -0.546019  \n",
       "1          -0.569826  \n",
       "2          -0.281591  \n",
       "3          -0.256331  \n",
       "4          -0.691557  "
      ]
     },
     "execution_count": 58,
     "metadata": {},
     "output_type": "execute_result"
    }
   ],
   "source": [
    "scaled_df = pd.DataFrame(scaled_data, columns=df.columns)\n",
    "scaled_df.head()"
   ]
  },
  {
   "cell_type": "code",
   "execution_count": 59,
   "id": "bab4fd3d-3f9e-44ff-898a-d2b0cbf3623a",
   "metadata": {},
   "outputs": [],
   "source": [
    "scaled_df.to_csv('scaled_dataframe_pca.csv', index=False)"
   ]
  },
  {
   "cell_type": "code",
   "execution_count": null,
   "id": "4ac7820e-5751-4647-92c7-bc88fd5b2a76",
   "metadata": {},
   "outputs": [],
   "source": []
  },
  {
   "cell_type": "code",
   "execution_count": null,
   "id": "b3155a5c-d606-48f2-ad88-d3de35c6d661",
   "metadata": {},
   "outputs": [],
   "source": []
  },
  {
   "cell_type": "code",
   "execution_count": null,
   "id": "0f85ac42-5f35-4391-b30c-5ff2c2779d38",
   "metadata": {},
   "outputs": [],
   "source": []
  },
  {
   "cell_type": "code",
   "execution_count": null,
   "id": "962b4bda-361a-4b62-b814-bc7137622499",
   "metadata": {},
   "outputs": [],
   "source": []
  },
  {
   "cell_type": "markdown",
   "id": "27c6bbbb-4aa1-432e-a1ca-d579e6bf5fdb",
   "metadata": {},
   "source": [
    "## **Refit PCA with 2 components**"
   ]
  },
  {
   "cell_type": "code",
   "execution_count": 66,
   "id": "c2aff636-5a35-4b2a-ba9f-f4a4f2abd213",
   "metadata": {},
   "outputs": [
    {
     "data": {
      "text/plain": [
       "array([[-1.30748989,  3.21828787],\n",
       "       [-0.17980335, -0.09891778],\n",
       "       [-0.63316987,  2.12575986],\n",
       "       ...,\n",
       "       [-0.59437105,  0.3754556 ],\n",
       "       [ 2.1987375 , -0.56489769],\n",
       "       [ 0.36075701, -0.69557242]])"
      ]
     },
     "execution_count": 66,
     "metadata": {},
     "output_type": "execute_result"
    }
   ],
   "source": [
    "pca_2 = PCA(n_components = 2)\n",
    "pca_model_2 = pca_2.fit_transform(scaled_data)\n",
    "pca_model_2"
   ]
  },
  {
   "cell_type": "code",
   "execution_count": 67,
   "id": "acbb1940-e06d-4fb7-851a-786fe3ad2593",
   "metadata": {},
   "outputs": [
    {
     "data": {
      "text/plain": [
       "(10000, 2)"
      ]
     },
     "execution_count": 67,
     "metadata": {},
     "output_type": "execute_result"
    }
   ],
   "source": [
    "pca_model_2.shape"
   ]
  },
  {
   "cell_type": "code",
   "execution_count": 68,
   "id": "d71fa74c-8a2a-4bc6-a6fb-be4212ca2b35",
   "metadata": {},
   "outputs": [
    {
     "data": {
      "text/plain": [
       "array([0.21334604, 0.12503905])"
      ]
     },
     "execution_count": 68,
     "metadata": {},
     "output_type": "execute_result"
    }
   ],
   "source": [
    "exp_var_2 = pca_2.explained_variance_ratio_\n",
    "exp_var_2"
   ]
  },
  {
   "cell_type": "code",
   "execution_count": 79,
   "id": "4335f02e-2229-4ce1-8b58-52dedb8716f3",
   "metadata": {},
   "outputs": [],
   "source": [
    "total_variance = np.sum(exp_var_2)"
   ]
  },
  {
   "cell_type": "code",
   "execution_count": 80,
   "id": "a82436d5-4a5a-4382-b96b-0ac5ffd94243",
   "metadata": {},
   "outputs": [
    {
     "data": {
      "text/plain": [
       "0.33838508215174223"
      ]
     },
     "execution_count": 80,
     "metadata": {},
     "output_type": "execute_result"
    }
   ],
   "source": [
    "total_variance"
   ]
  },
  {
   "cell_type": "code",
   "execution_count": null,
   "id": "8f74d19e-f9b2-46aa-bcab-dff940d77bfc",
   "metadata": {},
   "outputs": [],
   "source": []
  },
  {
   "cell_type": "code",
   "execution_count": 81,
   "id": "51ce8b75-6341-40af-be09-e97525d24735",
   "metadata": {},
   "outputs": [],
   "source": [
    "loadings_2 = pca_2.components_"
   ]
  },
  {
   "cell_type": "code",
   "execution_count": 88,
   "id": "8a0ed5b1-512c-4eeb-aee4-966dc74b8f00",
   "metadata": {},
   "outputs": [],
   "source": [
    "loadings_2_df = pd.DataFrame(loadings_2, columns=scaled_df.columns)"
   ]
  },
  {
   "cell_type": "code",
   "execution_count": 83,
   "id": "4e23389e-3eab-49a8-960a-d94502728d4a",
   "metadata": {},
   "outputs": [
    {
     "name": "stdout",
     "output_type": "stream",
     "text": [
      "Loadings of features on each principal component: \n"
     ]
    },
    {
     "data": {
      "text/html": [
       "<div>\n",
       "<style scoped>\n",
       "    .dataframe tbody tr th:only-of-type {\n",
       "        vertical-align: middle;\n",
       "    }\n",
       "\n",
       "    .dataframe tbody tr th {\n",
       "        vertical-align: top;\n",
       "    }\n",
       "\n",
       "    .dataframe thead th {\n",
       "        text-align: right;\n",
       "    }\n",
       "</style>\n",
       "<table border=\"1\" class=\"dataframe\">\n",
       "  <thead>\n",
       "    <tr style=\"text-align: right;\">\n",
       "      <th></th>\n",
       "      <th>Lat</th>\n",
       "      <th>Lng</th>\n",
       "      <th>Population</th>\n",
       "      <th>Age</th>\n",
       "      <th>Income</th>\n",
       "      <th>Outage_sec_perweek</th>\n",
       "      <th>Email</th>\n",
       "      <th>Contacts</th>\n",
       "      <th>Yearly_equip_failure</th>\n",
       "      <th>Tenure</th>\n",
       "      <th>MonthlyCharge</th>\n",
       "      <th>Bandwidth_GB_Year</th>\n",
       "    </tr>\n",
       "  </thead>\n",
       "  <tbody>\n",
       "    <tr>\n",
       "      <th>0</th>\n",
       "      <td>-0.257290</td>\n",
       "      <td>-0.048289</td>\n",
       "      <td>0.964702</td>\n",
       "      <td>0.006363</td>\n",
       "      <td>-0.012815</td>\n",
       "      <td>0.004480</td>\n",
       "      <td>0.023713</td>\n",
       "      <td>0.002020</td>\n",
       "      <td>-0.002291</td>\n",
       "      <td>-0.000641</td>\n",
       "      <td>-0.004664</td>\n",
       "      <td>-0.000819</td>\n",
       "    </tr>\n",
       "    <tr>\n",
       "      <th>1</th>\n",
       "      <td>0.335223</td>\n",
       "      <td>-0.939236</td>\n",
       "      <td>0.043795</td>\n",
       "      <td>-0.012438</td>\n",
       "      <td>0.025845</td>\n",
       "      <td>-0.011272</td>\n",
       "      <td>-0.041878</td>\n",
       "      <td>-0.006494</td>\n",
       "      <td>0.004650</td>\n",
       "      <td>-0.010933</td>\n",
       "      <td>-0.022802</td>\n",
       "      <td>-0.011723</td>\n",
       "    </tr>\n",
       "  </tbody>\n",
       "</table>\n",
       "</div>"
      ],
      "text/plain": [
       "        Lat       Lng  Population       Age    Income  Outage_sec_perweek   \n",
       "0 -0.257290 -0.048289    0.964702  0.006363 -0.012815            0.004480  \\\n",
       "1  0.335223 -0.939236    0.043795 -0.012438  0.025845           -0.011272   \n",
       "\n",
       "      Email  Contacts  Yearly_equip_failure    Tenure  MonthlyCharge   \n",
       "0  0.023713  0.002020             -0.002291 -0.000641      -0.004664  \\\n",
       "1 -0.041878 -0.006494              0.004650 -0.010933      -0.022802   \n",
       "\n",
       "   Bandwidth_GB_Year  \n",
       "0          -0.000819  \n",
       "1          -0.011723  "
      ]
     },
     "execution_count": 83,
     "metadata": {},
     "output_type": "execute_result"
    }
   ],
   "source": [
    "print(\"Loadings of features on each principal component: \")\n",
    "loadings_2_df"
   ]
  },
  {
   "cell_type": "code",
   "execution_count": 90,
   "id": "04e1310e-80a6-4c54-9dd9-92fac424512a",
   "metadata": {},
   "outputs": [
    {
     "data": {
      "text/plain": [
       "0    0.964702\n",
       "1    0.335223\n",
       "dtype: float64"
      ]
     },
     "execution_count": 90,
     "metadata": {},
     "output_type": "execute_result"
    }
   ],
   "source": [
    "loadings_2_df.max(axis=1)"
   ]
  },
  {
   "cell_type": "code",
   "execution_count": 91,
   "id": "7e7e8641-07ed-4026-b3f2-eb4edba9cbac",
   "metadata": {},
   "outputs": [
    {
     "data": {
      "text/plain": [
       "0   -0.257290\n",
       "1   -0.939236\n",
       "dtype: float64"
      ]
     },
     "execution_count": 91,
     "metadata": {},
     "output_type": "execute_result"
    }
   ],
   "source": [
    "loadings_2_df.min(axis=1)"
   ]
  },
  {
   "cell_type": "code",
   "execution_count": null,
   "id": "b83ad9dd-ff82-4d82-82cb-eed71490b73a",
   "metadata": {},
   "outputs": [],
   "source": []
  }
 ],
 "metadata": {
  "kernelspec": {
   "display_name": "Python 3 (ipykernel)",
   "language": "python",
   "name": "python3"
  },
  "language_info": {
   "codemirror_mode": {
    "name": "ipython",
    "version": 3
   },
   "file_extension": ".py",
   "mimetype": "text/x-python",
   "name": "python",
   "nbconvert_exporter": "python",
   "pygments_lexer": "ipython3",
   "version": "3.10.11"
  }
 },
 "nbformat": 4,
 "nbformat_minor": 5
}
